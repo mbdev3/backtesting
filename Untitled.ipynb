{
 "cells": [
  {
   "cell_type": "code",
   "execution_count": 17,
   "id": "dacf1e19",
   "metadata": {},
   "outputs": [
    {
     "ename": "AttributeError",
     "evalue": "'NoneType' object has no attribute '_next_stid'",
     "output_type": "error",
     "traceback": [
      "\u001b[1;31m---------------------------------------------------------------------------\u001b[0m",
      "\u001b[1;31mAttributeError\u001b[0m                            Traceback (most recent call last)",
      "Input \u001b[1;32mIn [17]\u001b[0m, in \u001b[0;36m<cell line: 2>\u001b[1;34m()\u001b[0m\n\u001b[0;32m      1\u001b[0m \u001b[38;5;28;01mimport\u001b[39;00m \u001b[38;5;21;01mbacktrader\u001b[39;00m \u001b[38;5;28;01mas\u001b[39;00m \u001b[38;5;21;01mbt\u001b[39;00m \n\u001b[1;32m----> 2\u001b[0m \u001b[43mbt\u001b[49m\u001b[38;5;241;43m.\u001b[39;49m\u001b[43mStrategy\u001b[49m\u001b[43m(\u001b[49m\u001b[43mtitle\u001b[49m\u001b[38;5;241;43m=\u001b[39;49m\u001b[38;5;124;43m\"\u001b[39;49m\u001b[38;5;124;43mSimple SMA Strategy Backtest\u001b[39;49m\u001b[38;5;124;43m\"\u001b[39;49m\u001b[43m,\u001b[49m\u001b[43m \u001b[49m\u001b[43mshorttitle\u001b[49m\u001b[38;5;241;43m=\u001b[39;49m\u001b[38;5;124;43m\"\u001b[39;49m\u001b[38;5;124;43mSMA Backtest\u001b[39;49m\u001b[38;5;124;43m\"\u001b[39;49m\u001b[43m,\u001b[49m\u001b[43m \u001b[49m\u001b[43mprecision\u001b[49m\u001b[38;5;241;43m=\u001b[39;49m\u001b[38;5;241;43m6\u001b[39;49m\u001b[43m,\u001b[49m\u001b[43m \u001b[49m\u001b[43moverlay\u001b[49m\u001b[38;5;241;43m=\u001b[39;49m\u001b[38;5;28;43;01mTrue\u001b[39;49;00m\u001b[43m)\u001b[49m\n\u001b[0;32m      3\u001b[0m Resolution \u001b[38;5;241m=\u001b[39m \u001b[38;5;28minput\u001b[39m(title\u001b[38;5;241m=\u001b[39m\u001b[38;5;124m\"\u001b[39m\u001b[38;5;124mResolution\u001b[39m\u001b[38;5;124m\"\u001b[39m, \u001b[38;5;28mtype\u001b[39m\u001b[38;5;241m=\u001b[39m\u001b[38;5;28minput\u001b[39m\u001b[38;5;241m.\u001b[39mresolution, defval\u001b[38;5;241m=\u001b[39m\u001b[38;5;124m\"\u001b[39m\u001b[38;5;124mD\u001b[39m\u001b[38;5;124m\"\u001b[39m)\n\u001b[0;32m      4\u001b[0m Source \u001b[38;5;241m=\u001b[39m \u001b[38;5;28minput\u001b[39m(title\u001b[38;5;241m=\u001b[39m\u001b[38;5;124m\"\u001b[39m\u001b[38;5;124mSource\u001b[39m\u001b[38;5;124m\"\u001b[39m, \u001b[38;5;28mtype\u001b[39m\u001b[38;5;241m=\u001b[39m\u001b[38;5;28minput\u001b[39m\u001b[38;5;241m.\u001b[39msource, defval\u001b[38;5;241m=\u001b[39mclose)\n",
      "File \u001b[1;32m~\\AppData\\Roaming\\Python\\Python310\\site-packages\\backtrader\\metabase.py:86\u001b[0m, in \u001b[0;36mMetaBase.__call__\u001b[1;34m(cls, *args, **kwargs)\u001b[0m\n\u001b[0;32m     84\u001b[0m \u001b[38;5;28;01mdef\u001b[39;00m \u001b[38;5;21m__call__\u001b[39m(\u001b[38;5;28mcls\u001b[39m, \u001b[38;5;241m*\u001b[39margs, \u001b[38;5;241m*\u001b[39m\u001b[38;5;241m*\u001b[39mkwargs):\n\u001b[0;32m     85\u001b[0m     \u001b[38;5;28mcls\u001b[39m, args, kwargs \u001b[38;5;241m=\u001b[39m \u001b[38;5;28mcls\u001b[39m\u001b[38;5;241m.\u001b[39mdoprenew(\u001b[38;5;241m*\u001b[39margs, \u001b[38;5;241m*\u001b[39m\u001b[38;5;241m*\u001b[39mkwargs)\n\u001b[1;32m---> 86\u001b[0m     _obj, args, kwargs \u001b[38;5;241m=\u001b[39m \u001b[38;5;28mcls\u001b[39m\u001b[38;5;241m.\u001b[39mdonew(\u001b[38;5;241m*\u001b[39margs, \u001b[38;5;241m*\u001b[39m\u001b[38;5;241m*\u001b[39mkwargs)\n\u001b[0;32m     87\u001b[0m     _obj, args, kwargs \u001b[38;5;241m=\u001b[39m \u001b[38;5;28mcls\u001b[39m\u001b[38;5;241m.\u001b[39mdopreinit(_obj, \u001b[38;5;241m*\u001b[39margs, \u001b[38;5;241m*\u001b[39m\u001b[38;5;241m*\u001b[39mkwargs)\n\u001b[0;32m     88\u001b[0m     _obj, args, kwargs \u001b[38;5;241m=\u001b[39m \u001b[38;5;28mcls\u001b[39m\u001b[38;5;241m.\u001b[39mdoinit(_obj, \u001b[38;5;241m*\u001b[39margs, \u001b[38;5;241m*\u001b[39m\u001b[38;5;241m*\u001b[39mkwargs)\n",
      "File \u001b[1;32m~\\AppData\\Roaming\\Python\\Python310\\site-packages\\backtrader\\strategy.py:73\u001b[0m, in \u001b[0;36mMetaStrategy.donew\u001b[1;34m(cls, *args, **kwargs)\u001b[0m\n\u001b[0;32m     71\u001b[0m \u001b[38;5;66;03m# Find the owner and store it\u001b[39;00m\n\u001b[0;32m     72\u001b[0m _obj\u001b[38;5;241m.\u001b[39menv \u001b[38;5;241m=\u001b[39m _obj\u001b[38;5;241m.\u001b[39mcerebro \u001b[38;5;241m=\u001b[39m cerebro \u001b[38;5;241m=\u001b[39m findowner(_obj, bt\u001b[38;5;241m.\u001b[39mCerebro)\n\u001b[1;32m---> 73\u001b[0m _obj\u001b[38;5;241m.\u001b[39m_id \u001b[38;5;241m=\u001b[39m \u001b[43mcerebro\u001b[49m\u001b[38;5;241;43m.\u001b[39;49m\u001b[43m_next_stid\u001b[49m()\n\u001b[0;32m     75\u001b[0m \u001b[38;5;28;01mreturn\u001b[39;00m _obj, args, kwargs\n",
      "\u001b[1;31mAttributeError\u001b[0m: 'NoneType' object has no attribute '_next_stid'"
     ]
    }
   ],
   "source": [
    "import backtrader as bt \n",
    "bt.Strategy(title=\"Simple SMA Strategy Backtest\", shorttitle=\"SMA Backtest\", precision=6, overlay=True)\n",
    "Resolution = input(title=\"Resolution\", type=input.resolution, defval=\"D\")\n",
    "Source = input(title=\"Source\", type=input.source, defval=close)\n",
    "xSeries = security(syminfo.tickerid, Resolution, Source)\n",
    "Length = input(title=\"Length\", type=input.integer, defval=14, minval=2)\n",
    "TriggerPrice = input(title=\"Trigger Price\", type=input.source, defval=close)\n",
    "BarColors = input(title=\"Painting bars\", type=input.bool, defval=true)\n",
    "ShowLine = input(title=\"Show Line\", type=input.bool, defval=true)\n",
    "UseAlerts = input(title=\"Use Alerts\", type=input.bool, defval=false)\n",
    "reverse = input(title=\"Trade Reverse\", type=input.bool, defval=false)\n",
    "pos = 0\n",
    "xSMA = sma(xSeries, Length)\n",
    "pos = iff(TriggerPrice > xSMA, 1,\n",
    "         iff(TriggerPrice < xSMA, -1, nz(pos[1], 0)))\n",
    "\n",
    "def show():\n",
    "    if(ShowLine):\n",
    "        return xSMA\n",
    "    else:\n",
    "        return na\n",
    "    \n",
    "nRes = show()\n",
    "alertcondition(UseAlerts == true and pos != pos[1] and pos == 1, title='Signal Buy', message='Strategy to change to BUY')\n",
    "alertcondition(UseAlerts == true and pos != pos[1] and pos == -1, title='Signal Sell', message='Strategy to change to SELL')\n",
    "alertcondition(UseAlerts == true and pos != pos[1] and pos == 0, title='FLAT', message='Strategy get out from position')\n",
    "possig = iff(reverse and pos == 1, -1,\n",
    "           iff(reverse and pos == -1, 1, pos))\n",
    "if (possig == 1):\n",
    "    strategy.entry(\"Long\", strategy.long)\n",
    "if (possig == -1):\n",
    "    strategy.entry(\"Short\", strategy.short)\n",
    "if (possig == 0):\n",
    "    strategy.close_all()\n",
    "def colors():\n",
    "    if(BarColors):\n",
    "        if(possig == -1):\n",
    "            return color.red\n",
    "        elif(possig == 1):\n",
    "            return color.green\n",
    "        else:\n",
    "            return color.blue\n",
    "# nColor = BarColors ? possig == -1 ? color.red : possig == 1 ? color.green : color.blue : na \n",
    "nColor = colors()\n",
    "barcolor(nColor)\n",
    "plot(nRes, title='SMA', color='#00ffaa', linewidth=2, style=plot.style_line)"
   ]
  },
  {
   "cell_type": "code",
   "execution_count": null,
   "id": "30ddd28b",
   "metadata": {},
   "outputs": [],
   "source": []
  }
 ],
 "metadata": {
  "kernelspec": {
   "display_name": "Python 3 (ipykernel)",
   "language": "python",
   "name": "python3"
  },
  "language_info": {
   "codemirror_mode": {
    "name": "ipython",
    "version": 3
   },
   "file_extension": ".py",
   "mimetype": "text/x-python",
   "name": "python",
   "nbconvert_exporter": "python",
   "pygments_lexer": "ipython3",
   "version": "3.10.4"
  }
 },
 "nbformat": 4,
 "nbformat_minor": 5
}
